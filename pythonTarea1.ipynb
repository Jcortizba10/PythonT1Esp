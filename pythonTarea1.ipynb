{
 "cells": [
  {
   "cell_type": "markdown",
   "metadata": {},
   "source": [
    "1. Desarrolle un programa que comience leyendo un numero de segundos del usuario. Luego, su programa debe mostrar la cantidad de tiempo equivalente en la forma D:HH:MM:SS, donde D, HH, MM y SS representan dıas, horas, minutos y segundos respectivamente. Las horas, los minutos y los segundos deben formatearse de modo que ocupen exactamente dos d´ıgitos, con un 0 a la izquierda si es necesario."
   ]
  },
  {
   "cell_type": "code",
   "execution_count": 46,
   "metadata": {
    "metadata": {}
   },
   "outputs": [
    {
     "name": "stdout",
     "output_type": "stream",
     "text": [
      "2\n",
      "27350\n",
      "7\n",
      "2150\n",
      "35\n"
     ]
    }
   ],
   "source": [
    "segundos = 200150\n",
    "dias = segundos//(24*3600)\n",
    "print(dias)\n",
    "seg = segundos%(24*3600)\n",
    "print(seg)\n",
    "horas = seg//3600\n",
    "print(horas)\n",
    "seg1 = seg%3600\n",
    "minutos = seg1//60\n",
    "print(minutos)\n"
   ]
  },
  {
   "cell_type": "code",
   "execution_count": 41,
   "metadata": {
    "metadata": {}
   },
   "outputs": [
    {
     "name": "stdout",
     "output_type": "stream",
     "text": [
      "02:07:35:50\n"
     ]
    }
   ],
   "source": [
    "def conv_segundo(segundos):\n",
    "    dias = segundos // (24 * 3600)\n",
    "    segundos %= (24*3600)\n",
    "    horas = segundos//3600\n",
    "    segundos %= 3600\n",
    "    minutos = segundos//60\n",
    "    segundos %= 60\n",
    "    \n",
    "    dias_str = str(dias).zfill(2)\n",
    "    horas_str = str(horas).zfill(2)\n",
    "    minutos_str = str(minutos).zfill(2)\n",
    "    segundos_str = str(segundos).zfill(2)\n",
    "    \n",
    "    return(f\"{dias_str}:{horas_str}:{minutos_str}:{segundos_str}\")\n",
    "    \n",
    "\n",
    "segundos = int(input(\"Por favor ingrese un numero en segundos : \"))\n",
    "\n",
    "tiempo_form = conv_segundo(segundos)\n",
    "\n",
    "print(tiempo_form)"
   ]
  },
  {
   "cell_type": "markdown",
   "metadata": {},
   "source": [
    "2. Escriba un programa que lea un entero positivo, n, del usuario y luego muestre la suma de todos los enteros del 1 al n. La suma de los primeros n enteros positivos se puede calcular mediante la f´ormula:"
   ]
  },
  {
   "cell_type": "code",
   "execution_count": 7,
   "metadata": {
    "metadata": {}
   },
   "outputs": [
    {
     "name": "stdout",
     "output_type": "stream",
     "text": [
      "La suma de los entero del 1 hasta 10 es igual a : 55\n"
     ]
    }
   ],
   "source": [
    "def suma_enteros(n):\n",
    "    suma = (n * (n + 1)) // 2\n",
    "    return suma\n",
    "\n",
    "n = int(input(\"Ingrese un numero entero : \"))\n",
    "\n",
    "if n <= 0 :\n",
    "    print(\"Ingrese un numero debe ser positivo\")\n",
    "else:\n",
    "    suma = suma_enteros(n)\n",
    "    print(f\"La suma de los entero del 1 hasta {n} es igual a : {suma}\")\n",
    "\n"
   ]
  },
  {
   "cell_type": "markdown",
   "metadata": {},
   "source": [
    "3.Escriba un programa que reciba como entrada las longitudes de los dos catetos a y b de un triangulo rectangulo, y que entregue como salida el largo de la hipotenusa c del triangulo, dado por el teorema de\n",
    "Pitagoras: c\n",
    "2 = a\n",
    "2 + b\n",
    "2"
   ]
  },
  {
   "cell_type": "code",
   "execution_count": 6,
   "metadata": {
    "metadata": {}
   },
   "outputs": [
    {
     "name": "stdout",
     "output_type": "stream",
     "text": [
      "Calcular la hipotenusa de un triangulo rectangulo\n",
      "La hipotenusa del triangulo rectangulo es : 19.21\n"
     ]
    }
   ],
   "source": [
    "print(\"Calcular la hipotenusa de un triangulo rectangulo\")\n",
    "\n",
    "cateto_a = float(input(\"Ingrese el numero del cateto a: \"))\n",
    "cateto_b = float(input(\"Ingrese el numero de cateto b : \"))\n",
    "\n",
    "def hipot(cateto_a, cateto_b):\n",
    "    hipotenusa = (cateto_a**2 + cateto_b**2)**(1/2)\n",
    "    return hipotenusa\n",
    "\n",
    "hipotenusa = hipot(cateto_a, cateto_b)\n",
    "\n",
    "print(f\"La hipotenusa del triangulo rectangulo es : {hipotenusa:.2f}\")\n",
    "\n"
   ]
  },
  {
   "cell_type": "markdown",
   "metadata": {},
   "source": [
    "1. El a˜no se divide en cuatro estaciones: primavera, verano, oto˜no e invierno. Si bien las fechas exactas en que cambian las estaciones varıan un poco de un ano a otro debido a la forma en que se construye el calendario, usaremos las siguientes fechas para este ejercicio:"
   ]
  },
  {
   "cell_type": "code",
   "execution_count": 27,
   "metadata": {
    "metadata": {}
   },
   "outputs": [
    {
     "name": "stdout",
     "output_type": "stream",
     "text": [
      "se encuentra en la Estacion del Invierno en el mes de enero dia 20 \n"
     ]
    }
   ],
   "source": [
    "mes = input(\"Ingrese el mes :\").lower()\n",
    "dia = int(input(\"Ingrese el dia : \"))\n",
    "\n",
    "if (mes == \"marzo\" and dia >= 20 and dia <=31):\n",
    "    print(f\"se encuentra en la Estacion de la Primavera en el mes de {mes} dia {dia} \")\n",
    "elif (mes == \"abril\" and dia >= 1 and dia <=30):\n",
    "    print(f\"se encuentra en la Estacion de la Primavera en el mes de {mes} dia {dia} \")\n",
    "elif (mes == \"mayo\" and dia >= 1 and dia <=31):\n",
    "    print(f\"se encuentra en la Estacion de la Primavera en el mes de {mes} dia {dia} \")\n",
    "elif (mes == \"junio\" and dia >= 1 and dia <=20):\n",
    "    print(f\"se encuentra en la Estacion de la Primavera en el mes de {mes} dia {dia} \")\n",
    "elif (mes == \"junio\" and dia >= 21 and dia <=30):\n",
    "    print(f\"se encuentra en la Estacion del Verano en el mes de {mes} dia {dia} \")\n",
    "elif (mes == \"julio\" and dia >= 1 and dia <=31):\n",
    "    print(f\"se encuentra en la Estacion del Verano en el mes de {mes} dia {dia} \")\n",
    "elif (mes == \"agosto\" and dia >= 1 and dia <=31):\n",
    "    print(f\"se encuentra en la Estacion del Verano en el mes de {mes} dia {dia} \")\n",
    "elif (mes == \"septiembre\" and dia >= 1 and dia <=21):\n",
    "    print(f\"se encuentra en la Estacion del Verano en el mes de {mes} dia {dia} \")\n",
    "elif (mes == \"septiembre\"and dia >= 22 and dia <=31):\n",
    "    print(f\"se encuentra en la Estacion del Otoño en el mes de {mes} dia {dia} \")\n",
    "elif (mes == \"octubre\"and dia >= 1 and dia <=31):\n",
    "    print(f\"se encuentra en la Estacion del Otoño en el mes de {mes} dia {dia} \")\n",
    "elif (mes == \"noviembre\"and dia >= 1 and dia <=30):\n",
    "    print(f\"se encuentra en la Estacion del Otoño en el mes de {mes} dia {dia} \")\n",
    "elif (mes == \"diciembre\"and dia >= 1 and dia <=20):\n",
    "    print(f\"se encuentra en la Estacion del Otoño en el mes de {mes} dia {dia} \")\n",
    "elif (mes == \"diciembre\"and dia >= 21 and dia <=31):\n",
    "    print(f\"se encuentra en la Estacion del Invierno en el mes de {mes} dia {dia} \")\n",
    "elif (mes == \"enero\"and dia >= 1 and dia <=31):\n",
    "    print(f\"se encuentra en la Estacion del Invierno en el mes de {mes} dia {dia} \")\n",
    "elif (mes == \"febrero\"and dia >= 1 and dia <=29):\n",
    "    print(f\"se encuentra en la Estacion del Invierno en el mes de {mes} dia {dia} \")\n",
    "elif (mes == \"marzo\"and dia >= 1 and dia <=19):\n",
    "    print(f\"se encuentra en la Estacion del Invierno en el mes de {mes} dia {dia} \")\n",
    "else:\n",
    "    print(f\"No se encuentra en ninguna estacion del año\")"
   ]
  },
  {
   "cell_type": "markdown",
   "metadata": {},
   "source": [
    "2. Realice un programa que simule una calculadora basica, este puede realizar las siguientes operaciones: suma,resta, multiplicacion y división. El programa debe recibir como entrada 2 numeros reales y un operador, que puede ser +, −, ∗, /. La salida del programa debe ser el resultado de la operacion."
   ]
  },
  {
   "cell_type": "code",
   "execution_count": 30,
   "metadata": {
    "metadata": {}
   },
   "outputs": [
    {
     "name": "stdout",
     "output_type": "stream",
     "text": [
      "Welcome to the App of the Calculator\n",
      "Ingresa la operacion que deseas realizar : /n + o  suma, /n - o resta, /n * multiplicacion, /n / o division\n",
      "El resultado de la multiplicacion es : 80\n"
     ]
    }
   ],
   "source": [
    "print(\"Welcome to the App of the Calculator\")\n",
    "\n",
    "number = int(input(\"Por favor ingrese un numero:\"))\n",
    "number2 = int(input(\"Por favor ingrese un numero: \"))\n",
    "print(\"Ingresa la operacion que deseas realizar : \\n + o  suma, \\n - o resta, \\n * multiplicacion, \\n / o division\")\n",
    "operacion = input(\"Por favor ingrese la operacion que desea hacer: \").lower()\n",
    "\n",
    "if (operacion == \"+\" or operacion == \"suma\"):\n",
    "    suma= number + number2\n",
    "    print(f\"El resultado de la suma es : {suma}\")\n",
    "elif (operacion == \"-\" or operacion == \"resta\"):\n",
    "    resta = number - number2\n",
    "    print(f\"El resultado de la resta es : {resta}\")\n",
    "elif (operacion == \"*\" or operacion == \"multiplicacion\"):\n",
    "    multiplicacion = number * number2\n",
    "    print(f\"El resultado de la multiplicacion es : {multiplicacion}\")\n",
    "elif (operacion == \"/\" or operacion == \"division\"):\n",
    "    division = number / number2\n",
    "    print(f\"El resultado de la division es : {division}\")\n",
    "else:\n",
    "    print(\"Ingrese una operacion valida\")\n",
    "    "
   ]
  },
  {
   "cell_type": "markdown",
   "metadata": {},
   "source": [
    "3. El riesgo de que una persona sufra enfermedades coronarias depende de su edad y su ındice de masa corporal:\n",
    "         Edad<45  Edad≥45\n",
    "IMC<22.0   bajo   medio\n",
    "IMC≥22.0   medio  alto\n",
    "El ´ındice de masa corporal es el cociente entre el peso del individuo en kilos y el cuadrado de su estatura en metros. Escriba un programa que reciba como entrada la estatura, el peso y la edad de una persona, y le entregue su condición de riesgo.\n"
   ]
  },
  {
   "cell_type": "code",
   "execution_count": 14,
   "metadata": {
    "metadata": {}
   },
   "outputs": [
    {
     "name": "stdout",
     "output_type": "stream",
     "text": [
      "Bienvenido a la aplicacion enfermedades coronarias\n",
      "La condicion de riesgo de Camilo Ortiz es : medio y tienes un indice de masa corporal de : 25.61728395061728\n"
     ]
    }
   ],
   "source": [
    "print(\"Bienvenido a la aplicacion enfermedades coronarias\")\n",
    "\n",
    "nombre = input(\"Ingrese su nombre : \")\n",
    "peso = int(input(\"Ingrese su peso en kg : \"))\n",
    "edad = int(input(\"Ingrese su edad : \"))\n",
    "estatura = float(input(\"Ingrese su estatura en metros : \"))\n",
    "\n",
    "def calcular_imc(peso,estatura):\n",
    "    imc = peso / (estatura**2)\n",
    "    return imc\n",
    "def determinacion_condicion_riesgo(edad, imc):\n",
    "    if edad < 45 :\n",
    "        if imc < 22.0:\n",
    "            return\"bajo\"\n",
    "        else:\n",
    "            return \"medio\"\n",
    "        \n",
    "    else:\n",
    "        if imc < 22.0:\n",
    "            return \"medio\"\n",
    "        else:\n",
    "            return \"alto\"\n",
    "imc = calcular_imc(peso,estatura)\n",
    "condicion_riesgo = determinacion_condicion_riesgo(edad, imc)\n",
    "\n",
    "print(f\"La condicion de riesgo de {nombre} es : {condicion_riesgo} y tienes un indice de masa corporal de : {imc}\")"
   ]
  },
  {
   "cell_type": "markdown",
   "metadata": {},
   "source": [
    "Ciclos\n",
    "1. Una palabra o frase es un palındromo si es identica hacia adelante y hacia atras. Por ejemplo, anna, civic, level y hannah son ejemplos de palabras palindromicas. Escriba un programa que lea una cadena (String)\n",
    "del usuario y use un bucle (ciclo) para determinar si es o no un pal´ındromo. Muestre el resultado, incluido\n",
    "un mensaje de salida significativo"
   ]
  },
  {
   "cell_type": "code",
   "execution_count": 18,
   "metadata": {
    "metadata": {}
   },
   "outputs": [
    {
     "name": "stdout",
     "output_type": "stream",
     "text": [
      "Welcome to the App the use of Palindromos\n",
      "an  na es un palindromo\n"
     ]
    }
   ],
   "source": [
    "print(\"Welcome to the App the use of Palindromos\")\n",
    "\n",
    "def palindromo(cadena):\n",
    "    cadena = cadena.replace(\" \",\"\").lower()\n",
    "    izquierda = 0\n",
    "    derecha = len(cadena) - 1\n",
    "\n",
    "    while izquierda < derecha:\n",
    "        if cadena[izquierda]!= cadena[derecha]:\n",
    "            return False\n",
    "        izquierda += 1\n",
    "        derecha -= 1\n",
    "    return True\n",
    "\n",
    "cadena = input(\"Por favor ingrese una cadena : \")\n",
    "\n",
    "if palindromo(cadena):\n",
    "    print(f\"{cadena} es un palindromo\")\n",
    "else:\n",
    "    print(f\"{cadena} no es un palindromo\")"
   ]
  },
  {
   "cell_type": "markdown",
   "metadata": {},
   "source": [
    "2. Escriba un programa que pida al usuario dos numeros enteros, y luego entregue la suma de todos los numeros que estan entre ellos. Por ejemplo, si los numeros son 1 y 7, debe entregar como resultado 2+3+4+5+6 = 20."
   ]
  },
  {
   "cell_type": "code",
   "execution_count": 28,
   "metadata": {
    "metadata": {}
   },
   "outputs": [
    {
     "name": "stdout",
     "output_type": "stream",
     "text": [
      "Por favor ingrese dos numeros\n",
      "La suma de todos los numeros entre 12 y 19 es : 93\n"
     ]
    }
   ],
   "source": [
    "print(\"Por favor ingrese dos numeros\")\n",
    "\n",
    "numero1 = int(input(\"Ingrese el un numero : \"))\n",
    "numero2 = int(input(\"Ingrese el un numero : \"))\n",
    "\n",
    "def suma_numero(numero1, numero2):\n",
    "    \n",
    "    menor = min(numero1, numero2)\n",
    "    mayor = max(numero1, numero2)\n",
    "    \n",
    "    suma = 0\n",
    "\n",
    "    for i in range(menor + 1, mayor):\n",
    "        suma += i\n",
    "    \n",
    "    return suma\n",
    "\n",
    "resultado = suma_numero(numero1, numero2)\n",
    "\n",
    "print(f\"La suma de todos los numeros entre {numero1} y {numero2} es : {resultado}\")\n"
   ]
  },
  {
   "cell_type": "markdown",
   "metadata": {},
   "source": [
    "Funciones\n",
    "1. Escriba una funcion llamada esBisiesto() que determine si un año determinado es un año bisiesto. Un año bisiesto es divisible por 4, pero no por 100. Tambi´en es divisible por 400."
   ]
  },
  {
   "cell_type": "code",
   "execution_count": 24,
   "metadata": {
    "metadata": {}
   },
   "outputs": [
    {
     "name": "stdout",
     "output_type": "stream",
     "text": [
      "2000 es un año bisiesto\n",
      "2004 es un año bisiesto\n",
      "2100 no es un año bisiesto\n",
      "2021 no es un año bisiesto\n",
      "2020 es un año bisiesto\n",
      "2016 es un año bisiesto\n",
      "2008 es un año bisiesto\n"
     ]
    }
   ],
   "source": [
    "def esBisiesto(año):\n",
    "    if(año % 4 ==0 and año % 100 != 0)or (año % 400 == 0):\n",
    "        return True\n",
    "    else:\n",
    "        return False\n",
    "\n",
    "años = [2000,2004,2100,2021,2020,2016,2008]\n",
    "\n",
    "for año in años:\n",
    "    if esBisiesto(año):\n",
    "        print(f\"{año} es un año bisiesto\")\n",
    "    else:\n",
    "        print(f\"{año} no es un año bisiesto\")"
   ]
  },
  {
   "cell_type": "markdown",
   "metadata": {},
   "source": [
    "2. Escribe una funcion llamada ordenaPositivos(lista), que dada una lista de n´umeros enteros, devuelva una nueva lista con los numeros positivos ordenados de menor a mayor, y mantenga los numeros negativosen la misma posici´on que la lista original."
   ]
  },
  {
   "cell_type": "code",
   "execution_count": 25,
   "metadata": {
    "metadata": {}
   },
   "outputs": [
    {
     "name": "stdout",
     "output_type": "stream",
     "text": [
      "[2, 3, -2, 5, -8, 6, -2]\n",
      "[1, 2, 3, -1, 4, 5, -1, 6]\n",
      "[-5, -5, -5, -5, 7, -5]\n",
      "[]\n"
     ]
    }
   ],
   "source": [
    "def ordenPositivo(lista):\n",
    "    if not lista:\n",
    "        return []\n",
    "    def es_positivo(num):\n",
    "        return num > 0\n",
    "    \n",
    "    positivo = sorted(filter(es_positivo, lista))\n",
    "    \n",
    "    idx = 0\n",
    "    for i in range(len(lista)):\n",
    "        if lista[i] >0:\n",
    "            lista[i] = positivo[idx]\n",
    "            idx += 1\n",
    "    return lista\n",
    "\n",
    "print(ordenPositivo([6, 3, -2, 5, -8, 2, -2]))  # [2, 3, -2, 5, -8, 6, -2]\n",
    "print(ordenPositivo([6, 5, 4, -1, 3, 2, -1, 1]))  # [1, 2, 3, -1, 4, 5, -1, 6]\n",
    "print(ordenPositivo([-5, -5, -5, -5, 7, -5]))  # [-5, -5, -5, -5, 7, -5]\n",
    "print(ordenPositivo([])) "
   ]
  },
  {
   "cell_type": "code",
   "execution_count": 26,
   "metadata": {
    "metadata": {}
   },
   "outputs": [
    {
     "name": "stdout",
     "output_type": "stream",
     "text": [
      "[2, 3, -2, 5, -8, 6, -2]\n",
      "[1, 2, 3, -1, 4, 5, -1, 6]\n",
      "[-5, -5, -5, -5, 7, -5]\n",
      "[]\n"
     ]
    }
   ],
   "source": [
    "def ordenPositivo(lista):\n",
    "    \n",
    "    if not lista:\n",
    "        return []\n",
    "\n",
    "    # Función para filtrar los números positivos de la lista\n",
    "    def es_positivo(num):\n",
    "        return num > 0\n",
    "\n",
    "    # Obtener los números positivos de la lista y ordenarlos\n",
    "    positivos = sorted(filter(es_positivo, lista))\n",
    "\n",
    "    # Convertir el objeto iterable resultante de filter() en un iterador\n",
    "    positivos_iterador = iter(positivos)\n",
    "\n",
    "    # Reemplazar los números positivos en la lista original por los ordenados\n",
    "    for i in range(len(lista)):\n",
    "        if lista[i] > 0:\n",
    "            lista[i] = next(positivos_iterador)\n",
    "\n",
    "    return lista\n",
    "\n",
    "# Ejemplos de uso\n",
    "print(ordenPositivo([6, 3, -2, 5, -8, 2, -2]))  # [2, 3, -2, 5, -8, 6, -2]\n",
    "print(ordenPositivo([6, 5, 4, -1, 3, 2, -1, 1]))  # [1, 2, 3, -1, 4, 5, -1, 6]\n",
    "print(ordenPositivo([-5, -5, -5, -5, 7, -5]))  # [-5, -5, -5, -5, 7, -5]\n",
    "print(ordenPositivo([]))"
   ]
  },
  {
   "cell_type": "markdown",
   "metadata": {},
   "source": [
    "POO\n",
    "1. Escribe una aplicacion en Python que modele un sistema de gestion de personal para una empresa. La aplicación debe utilizar programaci´on orientada a objetos y debe incluir al menos tres clases: Empleado, Gerente y Desarrollador."
   ]
  },
  {
   "cell_type": "code",
   "execution_count": 36,
   "metadata": {
    "metadata": {}
   },
   "outputs": [
    {
     "name": "stdout",
     "output_type": "stream",
     "text": [
      "Nombre: Juan, Edad: 30, Salario: 50000.00\n",
      "Nombre: Ana, Edad: 40, Salario: 70000.00\n",
      "Nombre: Pedro, Edad: 25, Salario: 60000.00\n",
      "\n",
      "Demostrando polimorfismo:\n",
      "Nombre: Juan, Edad: 30, Salario: 56000.00\n",
      "Nombre: Ana, Edad: 40, Salario: 78400.00\n",
      "Nombre: Pedro, Edad: 25, Salario: 67200.00\n",
      "Asignando tarea Preparar informe mensual a Ana\n",
      "Pedro está escribiendo código en Python\n"
     ]
    }
   ],
   "source": [
    "class Empleado:\n",
    "    def __init__(self,nombre,edad,salario):\n",
    "        self.nombre = nombre\n",
    "        self.edad = edad\n",
    "        self.salario = salario\n",
    "    def obtener_nombre(self):\n",
    "        return self.nombre\n",
    "\n",
    "    def establecer_nombre(self, nombre):\n",
    "        self.nombre = nombre\n",
    "\n",
    "    def obtener_edad(self):\n",
    "        return self.edad\n",
    "\n",
    "    def establecer_edad(self, edad):\n",
    "        self.edad = edad\n",
    "\n",
    "    def obtener_salario(self):\n",
    "        return self.salario\n",
    "\n",
    "    def establecer_salario(self, salario):\n",
    "        self.salario = salario\n",
    "\n",
    "    def mostrar_informacion(self):\n",
    "        print(f\"Nombre: {self.nombre}, Edad: {self.edad}, Salario: {self.salario:.2f}\")\n",
    "\n",
    "class Gerente(Empleado):\n",
    "    def __init__(self, nombre, edad, salario, departamento):\n",
    "        #Empleado.__init__(nombre, edad, salario)\n",
    "        super().__init__(nombre, edad, salario)\n",
    "        self.departamento = departamento\n",
    "\n",
    "    def obtener_departamento(self):\n",
    "        return self.departamento\n",
    "\n",
    "    def asignar_tarea(self, tarea):\n",
    "        print(f\"Asignando tarea {tarea} a {self.nombre}\")\n",
    "\n",
    "    def evaluar_desempeno(self, subordinado):\n",
    "        print(f\"Evaluando el desempeño de {subordinado}\")\n",
    "        \n",
    "class Desarrollador(Empleado):\n",
    "    def __init__(self, nombre, edad, salario, lenguaje):\n",
    "        super().__init__(nombre, edad, salario)\n",
    "        self.lenguaje = lenguaje\n",
    "        \n",
    "    def obtener_lenguaje(self):\n",
    "        return self.lenguaje\n",
    "\n",
    "    def escribir_codigo(self):\n",
    "        print(f\"{self.nombre} está escribiendo código en {self.lenguaje}\")\n",
    "\n",
    "    def solucionar_problemas(self):\n",
    "        print(f\"{self.nombre} está solucionando problemas técnicos\")\n",
    "        \n",
    "# Crear instancias de cada clase\n",
    "empleado1 = Empleado(\"Juan\", 30, 50000)\n",
    "gerente1 = Gerente(\"Ana\", 40, 70000, \"Departamento de Ventas\")\n",
    "desarrollador1 = Desarrollador(\"Pedro\", 25, 60000, \"Python\")\n",
    "\n",
    "# Mostrar información de cada instancia\n",
    "empleado1.mostrar_informacion()\n",
    "gerente1.mostrar_informacion()\n",
    "desarrollador1.mostrar_informacion()\n",
    "\n",
    "# Demostrar polimorfismo\n",
    "print(\"\\nDemostrando polimorfismo:\")\n",
    "empleados = [empleado1, gerente1, desarrollador1]\n",
    "for empleado in empleados:\n",
    "    empleado.establecer_salario(empleado.obtener_salario() * 1.12)\n",
    "    empleado.mostrar_informacion()\n",
    "\n",
    "# Llamar a métodos específicos de las subclases\n",
    "tarea1= \"Preparar informe mensual\"\n",
    "gerente1.asignar_tarea(tarea1)\n",
    "desarrollador1.escribir_codigo()\n"
   ]
  }
 ],
 "metadata": {
  "kernelspec": {
   "display_name": "env",
   "language": "python",
   "name": "python3"
  },
  "language_info": {
   "codemirror_mode": {
    "name": "ipython",
    "version": 3
   },
   "file_extension": ".py",
   "mimetype": "text/x-python",
   "name": "python",
   "nbconvert_exporter": "python",
   "pygments_lexer": "ipython3",
   "version": "3.8.10"
  }
 },
 "nbformat": 4,
 "nbformat_minor": 2
}
